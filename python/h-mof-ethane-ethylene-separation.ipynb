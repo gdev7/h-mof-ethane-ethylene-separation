{
 "cells": [
  {
   "cell_type": "code",
   "execution_count": 1,
   "metadata": {},
   "outputs": [],
   "source": [
    "import pandas as pd\n",
    "import numpy as np\n",
    "import matplotlib.pyplot as plt\n",
    "from sklearn.preprocessing import MinMaxScaler\n",
    "from sklearn.model_selection import ShuffleSplit\n",
    "from sklearn.neural_network import MLPRegressor\n",
    "from sklearn.ensemble import RandomForestRegressor\n",
    "from sklearn import metrics\n",
    "from sklearn.inspection import permutation_importance"
   ]
  },
  {
   "cell_type": "code",
   "execution_count": 2,
   "metadata": {},
   "outputs": [],
   "source": [
    "df1 = pd.read_csv(\"scaled-prop.csv\")\n",
    "df1 = df1.drop(\"Unnamed: 0\", axis = 1)\n",
    "df1 = df1.drop(\"etr\", axis = 1)"
   ]
  },
  {
   "cell_type": "code",
   "execution_count": 6,
   "metadata": {},
   "outputs": [],
   "source": [
    "for i in range(df1.shape[1]-1):\n",
    "    df1.iloc[:,i+1] = df1.iloc[:,i+1].astype(float)"
   ]
  },
  {
   "cell_type": "code",
   "execution_count": null,
   "metadata": {},
   "outputs": [],
   "source": [
    "df2 = pd.read_csv(\"train-selectivity-ethane-uptake.csv\")\n",
    "df2 = df2.drop(\"Unnamed: 0\", axis = 1)"
   ]
  },
  {
   "cell_type": "code",
   "execution_count": null,
   "metadata": {},
   "outputs": [],
   "source": [
    "df_train = pd.merge(df2, df1, on=\"MOF\")"
   ]
  },
  {
   "cell_type": "code",
   "execution_count": null,
   "metadata": {},
   "outputs": [],
   "source": [
    "y_train = df_train.iloc[:,1].values\n",
    "y_train_scaled = np.asarray(y_train)"
   ]
  },
  {
   "cell_type": "code",
   "execution_count": 13,
   "metadata": {},
   "outputs": [],
   "source": [
    "x_train_scaled = df_train.iloc[:,3:24]\n",
    "columns = x_train_scaled.columns\n",
    "x_train_scaled = x_train_scaled.values"
   ]
  },
  {
   "cell_type": "code",
   "execution_count": null,
   "metadata": {},
   "outputs": [],
   "source": [
    "ss = ShuffleSplit(n_splits=11, test_size=0.05,random_state=47)\n",
    "rf = RandomForestRegressor(n_estimators=250, oob_score=True, n_jobs=16, random_state=2)\n",
    "it = 0\n",
    "\n",
    "for train_index, test_index in ss.split(x_train_scaled, y_train_scaled):\n",
    "    it += 1\n",
    "    x_train_split, x_test_split, y_train_split, y_test_split = x_train_scaled[train_index], x_train_scaled[test_index], y_train_scaled[train_index], y_train_scaled[test_index]\n",
    "    \n",
    "    rf.fit(x_train_split, y_train_split)\n",
    "    y_test_split_predicted = rf.predict(x_test_split)\n",
    "    result = permutation_importance(rf, x_test_split, y_test_split, n_repeats=10,random_state=0)\n",
    "    print(result.importances_mean)\n",
    "    print(rf.score(x_test_split, y_test_split),np.sqrt(metrics.mean_squared_error(y_test_split, y_test_split_predicted)))"
   ]
  }
 ],
 "metadata": {
  "kernelspec": {
   "display_name": "Python 3",
   "language": "python",
   "name": "python3"
  },
  "language_info": {
   "codemirror_mode": {
    "name": "ipython",
    "version": 3
   },
   "file_extension": ".py",
   "mimetype": "text/x-python",
   "name": "python",
   "nbconvert_exporter": "python",
   "pygments_lexer": "ipython3",
   "version": "3.7.7"
  }
 },
 "nbformat": 4,
 "nbformat_minor": 4
}
